{
 "cells": [
  {
   "cell_type": "markdown",
   "metadata": {},
   "source": [
    "# WeatherPy\n",
    "----\n",
    "\n",
    "#### Note\n",
    "* Instructions have been included for each segment. You do not have to follow them exactly, but they are included to help you think through the steps."
   ]
  },
  {
   "cell_type": "code",
   "execution_count": 1,
   "metadata": {
    "scrolled": true
   },
   "outputs": [],
   "source": [
    "# Dependencies and Setup\n",
    "import matplotlib.pyplot as plt\n",
    "import pandas as pd\n",
    "import numpy as np\n",
    "import requests\n",
    "import time\n",
    "from scipy.stats import linregress\n",
    "from pprint import pprint\n",
    "\n",
    "# Import API key\n",
    "from api_keys import weather_api_key\n",
    "\n",
    "# Incorporated citipy to determine city based on latitude and longitude\n",
    "from citipy import citipy\n",
    "\n",
    "# Output File (CSV)\n",
    "output_data_file = \"output_data/cities.csv\"\n",
    "\n",
    "# Range of latitudes and longitudes\n",
    "lat_range = (-90, 90)\n",
    "lng_range = (-180, 180)"
   ]
  },
  {
   "cell_type": "markdown",
   "metadata": {},
   "source": [
    "## Generate Cities List"
   ]
  },
  {
   "cell_type": "code",
   "execution_count": 3,
   "metadata": {},
   "outputs": [
    {
     "data": {
      "text/plain": [
       "607"
      ]
     },
     "execution_count": 3,
     "metadata": {},
     "output_type": "execute_result"
    }
   ],
   "source": [
    "# List for holding lat_lngs and cities\n",
    "lat_lngs = []\n",
    "cities = []\n",
    "\n",
    "# Create a set of random lat and lng combinations\n",
    "lats = np.random.uniform(lat_range[0], lat_range[1], size=1500)\n",
    "lngs = np.random.uniform(lng_range[0], lng_range[1], size=1500)\n",
    "lat_lngs = zip(lats, lngs)\n",
    "\n",
    "# Identify nearest city for each lat, lng combination\n",
    "for lat_lng in lat_lngs:\n",
    "    city = citipy.nearest_city(lat_lng[0], lat_lng[1]).city_name\n",
    "    \n",
    "    # If the city is unique, then add it to a our cities list\n",
    "    if city not in cities:\n",
    "        cities.append(city)\n",
    "\n",
    "# Print the city count to confirm sufficient count\n",
    "len(cities)"
   ]
  },
  {
   "cell_type": "markdown",
   "metadata": {},
   "source": [
    "Perform API Calls\n",
    "* Perform a weather check on each city using a series of successive API calls.\n",
    "* Include a print log of each city as it'sbeing processed (with the city number and city name).\n"
   ]
  },
  {
   "cell_type": "code",
   "execution_count": 4,
   "metadata": {},
   "outputs": [
    {
     "name": "stdout",
     "output_type": "stream",
     "text": [
      "Beginning Data Retrieval\n",
      "-----------------------------\n",
      "Processing Record 1 of Set 1 | ushuaia\n",
      "Processing Record 2 of Set 1 | port-gentil\n",
      "Processing Record 3 of Set 1 | rikitea\n",
      "Processing Record 4 of Set 1 | yellowknife\n",
      "Processing Record 5 of Set 1 | vardenis\n",
      "Processing Record 6 of Set 1 | salinopolis\n",
      "Processing Record 7 of Set 1 | barrow\n",
      "Processing Record 8 of Set 1 | punta arenas\n",
      "City not found. Skipping...\n",
      "Processing Record 9 of Set 1 | albany\n",
      "Processing Record 10 of Set 1 | chumikan\n",
      "Processing Record 11 of Set 1 | tornio\n",
      "Processing Record 12 of Set 1 | busselton\n",
      "Processing Record 13 of Set 1 | kavieng\n",
      "Processing Record 14 of Set 1 | chany\n",
      "Processing Record 15 of Set 1 | plettenberg bay\n",
      "Processing Record 16 of Set 1 | lumberton\n",
      "Processing Record 17 of Set 1 | faanui\n",
      "Processing Record 18 of Set 1 | mitsamiouli\n",
      "Processing Record 19 of Set 1 | tuatapere\n",
      "Processing Record 20 of Set 1 | auki\n",
      "City not found. Skipping...\n",
      "Processing Record 21 of Set 1 | wattegama\n",
      "Processing Record 22 of Set 1 | sambava\n",
      "Processing Record 23 of Set 1 | pevek\n",
      "Processing Record 24 of Set 1 | nikolskoye\n",
      "Processing Record 25 of Set 1 | grindavik\n",
      "Processing Record 26 of Set 1 | puerto ayora\n",
      "Processing Record 27 of Set 1 | clyde river\n",
      "Processing Record 28 of Set 1 | san policarpo\n",
      "Processing Record 29 of Set 1 | lebu\n",
      "Processing Record 30 of Set 1 | chokurdakh\n",
      "Processing Record 31 of Set 1 | agadez\n",
      "Processing Record 32 of Set 1 | yulara\n",
      "City not found. Skipping...\n",
      "City not found. Skipping...\n",
      "Processing Record 33 of Set 1 | severo-kurilsk\n",
      "Processing Record 34 of Set 1 | northam\n",
      "Processing Record 35 of Set 1 | vaini\n",
      "Processing Record 36 of Set 1 | tateyama\n",
      "Processing Record 37 of Set 1 | domoni\n",
      "City not found. Skipping...\n",
      "Processing Record 38 of Set 1 | talnakh\n",
      "City not found. Skipping...\n",
      "Processing Record 39 of Set 1 | hobart\n",
      "Processing Record 40 of Set 1 | bud\n",
      "Processing Record 41 of Set 1 | puerto ayacucho\n",
      "Processing Record 42 of Set 1 | north little rock\n",
      "Processing Record 43 of Set 1 | mahebourg\n",
      "Processing Record 44 of Set 1 | xichang\n",
      "Processing Record 45 of Set 1 | mahina\n",
      "Processing Record 46 of Set 1 | bredasdorp\n",
      "Processing Record 47 of Set 1 | atuona\n",
      "Processing Record 48 of Set 1 | antalaha\n",
      "Processing Record 49 of Set 1 | saint-philippe\n",
      "Processing Record 50 of Set 1 | oriximina\n",
      "Processing Record 1 of Set 2 | hadejia\n",
      "Processing Record 2 of Set 2 | zhigansk\n",
      "Processing Record 3 of Set 2 | whitehorse\n",
      "City not found. Skipping...\n",
      "Processing Record 4 of Set 2 | bluff\n",
      "Processing Record 5 of Set 2 | port elizabeth\n",
      "Processing Record 6 of Set 2 | leningradskiy\n",
      "City not found. Skipping...\n",
      "City not found. Skipping...\n",
      "Processing Record 7 of Set 2 | new norfolk\n",
      "Processing Record 8 of Set 2 | yumen\n",
      "Processing Record 9 of Set 2 | maragheh\n",
      "Processing Record 10 of Set 2 | sobolevo\n",
      "Processing Record 11 of Set 2 | pierre\n",
      "Processing Record 12 of Set 2 | kapaa\n",
      "Processing Record 13 of Set 2 | zabaykalsk\n",
      "Processing Record 14 of Set 2 | ilulissat\n",
      "Processing Record 15 of Set 2 | novobiryusinskiy\n",
      "Processing Record 16 of Set 2 | augusto correa\n",
      "Processing Record 17 of Set 2 | worland\n",
      "City not found. Skipping...\n",
      "City not found. Skipping...\n",
      "Processing Record 18 of Set 2 | kalmunai\n",
      "Processing Record 19 of Set 2 | ballina\n",
      "Processing Record 20 of Set 2 | baruun-urt\n",
      "Processing Record 21 of Set 2 | dikson\n",
      "Processing Record 22 of Set 2 | hithadhoo\n",
      "Processing Record 23 of Set 2 | dingle\n",
      "Processing Record 24 of Set 2 | tarakan\n",
      "Processing Record 25 of Set 2 | shubarkuduk\n",
      "Processing Record 26 of Set 2 | san patricio\n",
      "Processing Record 27 of Set 2 | hasaki\n",
      "Processing Record 28 of Set 2 | bathsheba\n",
      "Processing Record 29 of Set 2 | upernavik\n",
      "Processing Record 30 of Set 2 | tuktoyaktuk\n",
      "Processing Record 31 of Set 2 | cape town\n",
      "City not found. Skipping...\n",
      "Processing Record 32 of Set 2 | roald\n",
      "Processing Record 33 of Set 2 | lasa\n",
      "Processing Record 34 of Set 2 | mountain home\n",
      "Processing Record 35 of Set 2 | sistranda\n",
      "Processing Record 36 of Set 2 | ponta do sol\n",
      "Processing Record 37 of Set 2 | vila velha\n",
      "Processing Record 38 of Set 2 | trairi\n",
      "Processing Record 39 of Set 2 | kolokani\n",
      "Processing Record 40 of Set 2 | hermanus\n",
      "Processing Record 41 of Set 2 | mecca\n",
      "Processing Record 42 of Set 2 | husavik\n",
      "Processing Record 43 of Set 2 | comodoro rivadavia\n",
      "Processing Record 44 of Set 2 | kasongo-lunda\n",
      "Processing Record 45 of Set 2 | bom conselho\n",
      "Processing Record 46 of Set 2 | dataganj\n",
      "Processing Record 47 of Set 2 | brigantine\n",
      "Processing Record 48 of Set 2 | kodiak\n",
      "City not found. Skipping...\n",
      "Processing Record 49 of Set 2 | mount gambier\n",
      "Processing Record 50 of Set 2 | inongo\n",
      "Processing Record 1 of Set 3 | kiruna\n",
      "Processing Record 2 of Set 3 | quatre cocos\n",
      "Processing Record 3 of Set 3 | huarmey\n",
      "City not found. Skipping...\n",
      "Processing Record 4 of Set 3 | margate\n",
      "Processing Record 5 of Set 3 | mount isa\n",
      "Processing Record 6 of Set 3 | luganville\n",
      "Processing Record 7 of Set 3 | qui nhon\n",
      "Processing Record 8 of Set 3 | pundaguitan\n",
      "Processing Record 9 of Set 3 | hobyo\n",
      "Processing Record 10 of Set 3 | port alfred\n",
      "Processing Record 11 of Set 3 | kotma\n",
      "Processing Record 12 of Set 3 | guerrero negro\n",
      "Processing Record 13 of Set 3 | butaritari\n",
      "Processing Record 14 of Set 3 | mar del plata\n",
      "Processing Record 15 of Set 3 | dalby\n",
      "Processing Record 16 of Set 3 | jamestown\n",
      "Processing Record 17 of Set 3 | ponta delgada\n",
      "Processing Record 18 of Set 3 | yabelo\n",
      "Processing Record 19 of Set 3 | aksu\n",
      "Processing Record 20 of Set 3 | petapa\n",
      "Processing Record 21 of Set 3 | mataura\n",
      "Processing Record 22 of Set 3 | meulaboh\n",
      "City not found. Skipping...\n",
      "Processing Record 23 of Set 3 | avarua\n",
      "Processing Record 24 of Set 3 | ngunguru\n",
      "Processing Record 25 of Set 3 | hilo\n",
      "Processing Record 26 of Set 3 | fukue\n",
      "Processing Record 27 of Set 3 | korla\n",
      "Processing Record 28 of Set 3 | qaanaaq\n",
      "Processing Record 29 of Set 3 | taltal\n",
      "Processing Record 30 of Set 3 | castro\n",
      "Processing Record 31 of Set 3 | sile\n",
      "Processing Record 32 of Set 3 | saldanha\n",
      "Processing Record 33 of Set 3 | bowmore\n",
      "Processing Record 34 of Set 3 | geraldton\n",
      "City not found. Skipping...\n",
      "Processing Record 35 of Set 3 | khatanga\n",
      "Processing Record 36 of Set 3 | lompoc\n",
      "Processing Record 37 of Set 3 | gwadar\n",
      "Processing Record 38 of Set 3 | leh\n",
      "Processing Record 39 of Set 3 | aklavik\n",
      "Processing Record 40 of Set 3 | souillac\n",
      "Processing Record 41 of Set 3 | issoire\n",
      "Processing Record 42 of Set 3 | egvekinot\n",
      "Processing Record 43 of Set 3 | muroto\n",
      "Processing Record 44 of Set 3 | dzerzhinskoye\n",
      "City not found. Skipping...\n",
      "Processing Record 45 of Set 3 | half moon bay\n",
      "Processing Record 46 of Set 3 | arraial do cabo\n",
      "Processing Record 47 of Set 3 | kaitangata\n",
      "City not found. Skipping...\n",
      "City not found. Skipping...\n",
      "Processing Record 48 of Set 3 | norman wells\n",
      "Processing Record 49 of Set 3 | kruisfontein\n",
      "Processing Record 50 of Set 3 | cherskiy\n",
      "Processing Record 1 of Set 4 | huilong\n",
      "Processing Record 2 of Set 4 | juba\n",
      "Processing Record 3 of Set 4 | praia da vitoria\n",
      "Processing Record 4 of Set 4 | kyzyl-suu\n",
      "Processing Record 5 of Set 4 | san angelo\n",
      "Processing Record 6 of Set 4 | letka\n",
      "Processing Record 7 of Set 4 | columbus\n",
      "Processing Record 8 of Set 4 | sutto\n",
      "Processing Record 9 of Set 4 | santa maria del oro\n",
      "Processing Record 10 of Set 4 | zhangjiakou\n",
      "Processing Record 11 of Set 4 | taungdwingyi\n",
      "Processing Record 12 of Set 4 | nizwa\n",
      "Processing Record 13 of Set 4 | dongsheng\n",
      "Processing Record 14 of Set 4 | ancud\n",
      "Processing Record 15 of Set 4 | aitape\n",
      "Processing Record 16 of Set 4 | baraboo\n",
      "Processing Record 17 of Set 4 | faya\n",
      "Processing Record 18 of Set 4 | zinder\n",
      "Processing Record 19 of Set 4 | manica\n",
      "Processing Record 20 of Set 4 | adrar\n",
      "Processing Record 21 of Set 4 | sao filipe\n",
      "Processing Record 22 of Set 4 | puerto cabezas\n",
      "Processing Record 23 of Set 4 | marsaxlokk\n",
      "City not found. Skipping...\n",
      "Processing Record 24 of Set 4 | galle\n",
      "Processing Record 25 of Set 4 | cidreira\n",
      "City not found. Skipping...\n",
      "Processing Record 26 of Set 4 | toamasina\n",
      "Processing Record 27 of Set 4 | bongouanou\n",
      "Processing Record 28 of Set 4 | mindelo\n",
      "Processing Record 29 of Set 4 | longyearbyen\n",
      "Processing Record 30 of Set 4 | matay\n",
      "Processing Record 31 of Set 4 | lata\n",
      "Processing Record 32 of Set 4 | luderitz\n",
      "Processing Record 33 of Set 4 | champerico\n"
     ]
    },
    {
     "name": "stdout",
     "output_type": "stream",
     "text": [
      "Processing Record 34 of Set 4 | vilya\n",
      "Processing Record 35 of Set 4 | bambous virieux\n",
      "Processing Record 36 of Set 4 | bima\n",
      "Processing Record 37 of Set 4 | nishihara\n",
      "Processing Record 38 of Set 4 | cartagena\n",
      "Processing Record 39 of Set 4 | bengkulu\n",
      "Processing Record 40 of Set 4 | carutapera\n",
      "Processing Record 41 of Set 4 | chipiona\n",
      "Processing Record 42 of Set 4 | tura\n",
      "Processing Record 43 of Set 4 | verkhoyansk\n",
      "Processing Record 44 of Set 4 | alofi\n",
      "Processing Record 45 of Set 4 | tabuk\n",
      "Processing Record 46 of Set 4 | olga\n",
      "Processing Record 47 of Set 4 | katsuura\n",
      "Processing Record 48 of Set 4 | dallas\n",
      "Processing Record 49 of Set 4 | bundaberg\n",
      "City not found. Skipping...\n",
      "City not found. Skipping...\n",
      "Processing Record 50 of Set 4 | uberaba\n",
      "Processing Record 1 of Set 5 | yar-sale\n",
      "Processing Record 2 of Set 5 | lubumbashi\n",
      "Processing Record 3 of Set 5 | kalmar\n",
      "Processing Record 4 of Set 5 | sovetskaya gavan\n",
      "Processing Record 5 of Set 5 | eydhafushi\n",
      "Processing Record 6 of Set 5 | majene\n",
      "Processing Record 7 of Set 5 | shimoda\n",
      "Processing Record 8 of Set 5 | ornskoldsvik\n",
      "Processing Record 9 of Set 5 | presidencia roque saenz pena\n",
      "Processing Record 10 of Set 5 | esperance\n",
      "Processing Record 11 of Set 5 | yalta\n",
      "Processing Record 12 of Set 5 | taoudenni\n",
      "Processing Record 13 of Set 5 | hofn\n",
      "Processing Record 14 of Set 5 | kochkurovo\n",
      "Processing Record 15 of Set 5 | rogers\n",
      "Processing Record 16 of Set 5 | hualmay\n",
      "Processing Record 17 of Set 5 | udachnyy\n",
      "Processing Record 18 of Set 5 | fort saint james\n",
      "Processing Record 19 of Set 5 | kachiry\n",
      "Processing Record 20 of Set 5 | ostrovnoy\n",
      "Processing Record 21 of Set 5 | vila franca do campo\n",
      "Processing Record 22 of Set 5 | coihaique\n",
      "Processing Record 23 of Set 5 | biratnagar\n",
      "Processing Record 24 of Set 5 | pangnirtung\n",
      "Processing Record 25 of Set 5 | hakkari\n",
      "Processing Record 26 of Set 5 | tessalit\n",
      "City not found. Skipping...\n",
      "Processing Record 27 of Set 5 | georgetown\n",
      "Processing Record 28 of Set 5 | constitucion\n",
      "Processing Record 29 of Set 5 | mwense\n",
      "Processing Record 30 of Set 5 | varkkallai\n",
      "Processing Record 31 of Set 5 | rovaniemi\n",
      "Processing Record 32 of Set 5 | montbeliard\n",
      "Processing Record 33 of Set 5 | hervey bay\n",
      "City not found. Skipping...\n",
      "Processing Record 34 of Set 5 | joshimath\n",
      "Processing Record 35 of Set 5 | gangapur\n",
      "Processing Record 36 of Set 5 | fayaoue\n",
      "Processing Record 37 of Set 5 | cabedelo\n",
      "Processing Record 38 of Set 5 | saint-joseph\n",
      "Processing Record 39 of Set 5 | savinka\n",
      "Processing Record 40 of Set 5 | flinders\n",
      "Processing Record 41 of Set 5 | lillooet\n",
      "Processing Record 42 of Set 5 | lorengau\n",
      "Processing Record 43 of Set 5 | aswan\n",
      "Processing Record 44 of Set 5 | santa maria\n",
      "Processing Record 45 of Set 5 | hami\n",
      "Processing Record 46 of Set 5 | san cristobal\n",
      "Processing Record 47 of Set 5 | bol\n",
      "Processing Record 48 of Set 5 | ixtapa\n",
      "Processing Record 49 of Set 5 | grao mogol\n",
      "Processing Record 50 of Set 5 | east london\n",
      "Processing Record 1 of Set 6 | angola\n",
      "Processing Record 2 of Set 6 | vanavara\n",
      "Processing Record 3 of Set 6 | the valley\n",
      "City not found. Skipping...\n",
      "Processing Record 4 of Set 6 | nuuk\n",
      "Processing Record 5 of Set 6 | almaznyy\n",
      "Processing Record 6 of Set 6 | ahipara\n",
      "Processing Record 7 of Set 6 | airai\n",
      "Processing Record 8 of Set 6 | karla\n",
      "Processing Record 9 of Set 6 | bambanglipuro\n",
      "Processing Record 10 of Set 6 | verkhnevilyuysk\n",
      "Processing Record 11 of Set 6 | suntar\n",
      "Processing Record 12 of Set 6 | ribeira grande\n",
      "Processing Record 13 of Set 6 | chiang klang\n",
      "Processing Record 14 of Set 6 | nuevo progreso\n",
      "Processing Record 15 of Set 6 | tiksi\n",
      "Processing Record 16 of Set 6 | katherine\n",
      "Processing Record 17 of Set 6 | luchow\n",
      "Processing Record 18 of Set 6 | nan\n",
      "Processing Record 19 of Set 6 | sao sebastiao\n",
      "Processing Record 20 of Set 6 | langsa\n",
      "Processing Record 21 of Set 6 | padang\n",
      "Processing Record 22 of Set 6 | aykhal\n",
      "Processing Record 23 of Set 6 | fortuna\n",
      "Processing Record 24 of Set 6 | namibe\n",
      "Processing Record 25 of Set 6 | amarpur\n",
      "Processing Record 26 of Set 6 | saskylakh\n",
      "Processing Record 27 of Set 6 | lira\n",
      "Processing Record 28 of Set 6 | clinton\n",
      "Processing Record 29 of Set 6 | sesheke\n",
      "Processing Record 30 of Set 6 | jalu\n",
      "Processing Record 31 of Set 6 | talavera\n",
      "Processing Record 32 of Set 6 | port macquarie\n",
      "Processing Record 33 of Set 6 | beloha\n",
      "Processing Record 34 of Set 6 | shenjiamen\n",
      "Processing Record 35 of Set 6 | alwar\n",
      "Processing Record 36 of Set 6 | nauchnyy gorodok\n",
      "Processing Record 37 of Set 6 | victoria\n",
      "Processing Record 38 of Set 6 | kaeo\n",
      "Processing Record 39 of Set 6 | swift current\n",
      "City not found. Skipping...\n",
      "Processing Record 40 of Set 6 | touros\n",
      "Processing Record 41 of Set 6 | bonavista\n",
      "Processing Record 42 of Set 6 | eustis\n",
      "Processing Record 43 of Set 6 | port blair\n",
      "Processing Record 44 of Set 6 | rawson\n",
      "Processing Record 45 of Set 6 | luau\n",
      "Processing Record 46 of Set 6 | midland\n",
      "Processing Record 47 of Set 6 | fairbanks\n",
      "Processing Record 48 of Set 6 | nanortalik\n",
      "Processing Record 49 of Set 6 | moelv\n",
      "Processing Record 50 of Set 6 | chuy\n",
      "Processing Record 1 of Set 7 | yaan\n",
      "Processing Record 2 of Set 7 | bairiki\n",
      "Processing Record 3 of Set 7 | butembo\n",
      "Processing Record 4 of Set 7 | kindu\n",
      "Processing Record 5 of Set 7 | neijiang\n",
      "Processing Record 6 of Set 7 | moa\n",
      "Processing Record 7 of Set 7 | kemijarvi\n",
      "Processing Record 8 of Set 7 | ngama\n",
      "Processing Record 9 of Set 7 | bethel\n",
      "Processing Record 10 of Set 7 | saint george\n",
      "Processing Record 11 of Set 7 | larap\n",
      "Processing Record 12 of Set 7 | santa lucia\n",
      "Processing Record 13 of Set 7 | cayenne\n",
      "Processing Record 14 of Set 7 | tulum\n",
      "Processing Record 15 of Set 7 | sept-iles\n",
      "Processing Record 16 of Set 7 | pisco\n",
      "Processing Record 17 of Set 7 | ust-ishim\n",
      "Processing Record 18 of Set 7 | dumas\n",
      "Processing Record 19 of Set 7 | tanete\n",
      "Processing Record 20 of Set 7 | kahului\n",
      "Processing Record 21 of Set 7 | provideniya\n",
      "Processing Record 22 of Set 7 | north bend\n",
      "Processing Record 23 of Set 7 | grand gaube\n",
      "Processing Record 24 of Set 7 | carnarvon\n",
      "Processing Record 25 of Set 7 | shuya\n",
      "Processing Record 26 of Set 7 | kashi\n",
      "City not found. Skipping...\n",
      "Processing Record 27 of Set 7 | choix\n",
      "Processing Record 28 of Set 7 | lebanon\n",
      "Processing Record 29 of Set 7 | los llanos de aridane\n",
      "Processing Record 30 of Set 7 | ust-kulom\n",
      "Processing Record 31 of Set 7 | mitu\n",
      "Processing Record 32 of Set 7 | necocli\n",
      "Processing Record 33 of Set 7 | lavumisa\n",
      "Processing Record 34 of Set 7 | thompson\n",
      "Processing Record 35 of Set 7 | port lincoln\n",
      "Processing Record 36 of Set 7 | shahr-e babak\n",
      "Processing Record 37 of Set 7 | atasu\n",
      "Processing Record 38 of Set 7 | talara\n",
      "Processing Record 39 of Set 7 | lagoa\n",
      "Processing Record 40 of Set 7 | olhao\n",
      "City not found. Skipping...\n",
      "Processing Record 41 of Set 7 | coruripe\n",
      "Processing Record 42 of Set 7 | dwarka\n",
      "Processing Record 43 of Set 7 | alta floresta\n",
      "Processing Record 44 of Set 7 | kerema\n",
      "Processing Record 45 of Set 7 | amapa\n",
      "Processing Record 46 of Set 7 | avera\n",
      "Processing Record 47 of Set 7 | bay roberts\n",
      "Processing Record 48 of Set 7 | oranjemund\n",
      "Processing Record 49 of Set 7 | ventspils\n",
      "Processing Record 50 of Set 7 | yerbogachen\n",
      "Processing Record 1 of Set 8 | sandpoint\n",
      "Processing Record 2 of Set 8 | tilichiki\n",
      "Processing Record 3 of Set 8 | khandyga\n",
      "Processing Record 4 of Set 8 | chara\n",
      "Processing Record 5 of Set 8 | makakilo city\n",
      "Processing Record 6 of Set 8 | pangkalanbuun\n",
      "Processing Record 7 of Set 8 | sarakhs\n",
      "Processing Record 8 of Set 8 | morgan city\n",
      "City not found. Skipping...\n",
      "Processing Record 9 of Set 8 | aasiaat\n",
      "Processing Record 10 of Set 8 | itambe\n",
      "Processing Record 11 of Set 8 | siguiri\n",
      "Processing Record 12 of Set 8 | komsomolskiy\n",
      "Processing Record 13 of Set 8 | ranong\n",
      "Processing Record 14 of Set 8 | iqaluit\n",
      "Processing Record 15 of Set 8 | nabire\n",
      "Processing Record 16 of Set 8 | betioky\n",
      "Processing Record 17 of Set 8 | kirakira\n",
      "Processing Record 18 of Set 8 | svetlogorsk\n",
      "Processing Record 19 of Set 8 | bayonet point\n",
      "Processing Record 20 of Set 8 | wanning\n",
      "Processing Record 21 of Set 8 | la troncal\n",
      "Processing Record 22 of Set 8 | mugango\n",
      "Processing Record 23 of Set 8 | kiunga\n",
      "Processing Record 24 of Set 8 | jumla\n",
      "Processing Record 25 of Set 8 | umm lajj\n",
      "Processing Record 26 of Set 8 | codrington\n",
      "Processing Record 27 of Set 8 | haapiti\n"
     ]
    },
    {
     "name": "stdout",
     "output_type": "stream",
     "text": [
      "Processing Record 28 of Set 8 | mount pleasant\n",
      "Processing Record 29 of Set 8 | batemans bay\n",
      "Processing Record 30 of Set 8 | westport\n",
      "Processing Record 31 of Set 8 | hearst\n",
      "Processing Record 32 of Set 8 | koungou\n",
      "Processing Record 33 of Set 8 | iquique\n",
      "Processing Record 34 of Set 8 | maldonado\n",
      "Processing Record 35 of Set 8 | poum\n",
      "Processing Record 36 of Set 8 | vigeland\n",
      "Processing Record 37 of Set 8 | sinnamary\n",
      "Processing Record 38 of Set 8 | inta\n",
      "Processing Record 39 of Set 8 | samarai\n",
      "Processing Record 40 of Set 8 | mokhsogollokh\n",
      "Processing Record 41 of Set 8 | nouadhibou\n",
      "Processing Record 42 of Set 8 | mackay\n",
      "Processing Record 43 of Set 8 | pozoblanco\n",
      "Processing Record 44 of Set 8 | sevojno\n",
      "City not found. Skipping...\n",
      "Processing Record 45 of Set 8 | masallatah\n",
      "Processing Record 46 of Set 8 | port moresby\n",
      "Processing Record 47 of Set 8 | sibu\n",
      "City not found. Skipping...\n",
      "City not found. Skipping...\n",
      "Processing Record 48 of Set 8 | sumbe\n",
      "Processing Record 49 of Set 8 | hirara\n",
      "Processing Record 50 of Set 8 | sebezh\n",
      "Processing Record 1 of Set 9 | lund\n",
      "Processing Record 2 of Set 9 | bukachacha\n",
      "Processing Record 3 of Set 9 | bilibino\n",
      "Processing Record 4 of Set 9 | isangel\n",
      "Processing Record 5 of Set 9 | malumfashi\n",
      "Processing Record 6 of Set 9 | aleksin\n",
      "Processing Record 7 of Set 9 | otradnoye\n",
      "Processing Record 8 of Set 9 | storslett\n",
      "Processing Record 9 of Set 9 | pampa\n",
      "Processing Record 10 of Set 9 | saint-francois\n",
      "Processing Record 11 of Set 9 | laurencekirk\n",
      "Processing Record 12 of Set 9 | rock sound\n",
      "Processing Record 13 of Set 9 | san felipe\n",
      "Processing Record 14 of Set 9 | nicoya\n",
      "Processing Record 15 of Set 9 | santo antonio de posse\n",
      "Processing Record 16 of Set 9 | hvide sande\n",
      "Processing Record 17 of Set 9 | floro\n",
      "Processing Record 18 of Set 9 | douglas\n",
      "Processing Record 19 of Set 9 | san fernando\n",
      "Processing Record 20 of Set 9 | cabanas\n",
      "Processing Record 21 of Set 9 | hambantota\n",
      "Processing Record 22 of Set 9 | sterling\n",
      "Processing Record 23 of Set 9 | beringovskiy\n",
      "Processing Record 24 of Set 9 | sitka\n",
      "Processing Record 25 of Set 9 | tsogni\n",
      "Processing Record 26 of Set 9 | lavrentiya\n",
      "Processing Record 27 of Set 9 | zaltan\n",
      "Processing Record 28 of Set 9 | camana\n",
      "Processing Record 29 of Set 9 | tasiilaq\n",
      "Processing Record 30 of Set 9 | kawalu\n",
      "Processing Record 31 of Set 9 | nenjiang\n",
      "Processing Record 32 of Set 9 | rio gallegos\n",
      "City not found. Skipping...\n",
      "Processing Record 33 of Set 9 | melilla\n",
      "Processing Record 34 of Set 9 | hastings\n",
      "City not found. Skipping...\n",
      "Processing Record 35 of Set 9 | conakry\n",
      "Processing Record 36 of Set 9 | russell\n",
      "Processing Record 37 of Set 9 | aquiraz\n",
      "City not found. Skipping...\n",
      "Processing Record 38 of Set 9 | sao jose da coroa grande\n",
      "Processing Record 39 of Set 9 | dudinka\n",
      "Processing Record 40 of Set 9 | vestmannaeyjar\n",
      "Processing Record 41 of Set 9 | atar\n",
      "Processing Record 42 of Set 9 | mayo\n",
      "Processing Record 43 of Set 9 | brae\n",
      "Processing Record 44 of Set 9 | angicos\n",
      "City not found. Skipping...\n",
      "Processing Record 45 of Set 9 | olinda\n",
      "Processing Record 46 of Set 9 | la ronge\n",
      "Processing Record 47 of Set 9 | roros\n",
      "Processing Record 48 of Set 9 | roma\n",
      "Processing Record 49 of Set 9 | salalah\n",
      "Processing Record 50 of Set 9 | thunder bay\n",
      "Processing Record 1 of Set 10 | san quintin\n",
      "Processing Record 2 of Set 10 | iznik\n",
      "Processing Record 3 of Set 10 | premia de mar\n",
      "Processing Record 4 of Set 10 | bataipora\n",
      "Processing Record 5 of Set 10 | miri\n",
      "Processing Record 6 of Set 10 | christchurch\n",
      "Processing Record 7 of Set 10 | wad madani\n",
      "Processing Record 8 of Set 10 | santa cruz de la palma\n",
      "Processing Record 9 of Set 10 | jiuquan\n",
      "Processing Record 10 of Set 10 | port augusta\n",
      "Processing Record 11 of Set 10 | vanimo\n",
      "Processing Record 12 of Set 10 | tautira\n",
      "Processing Record 13 of Set 10 | mandera\n",
      "Processing Record 14 of Set 10 | bubaque\n",
      "Processing Record 15 of Set 10 | ketchikan\n",
      "Processing Record 16 of Set 10 | omboue\n",
      "Processing Record 17 of Set 10 | apricena\n",
      "Processing Record 18 of Set 10 | maceio\n",
      "Processing Record 19 of Set 10 | jalingo\n",
      "Processing Record 20 of Set 10 | sergeyevka\n",
      "Processing Record 21 of Set 10 | puerto escondido\n",
      "Processing Record 22 of Set 10 | cassilandia\n",
      "Processing Record 23 of Set 10 | novo aripuana\n",
      "Processing Record 24 of Set 10 | piacabucu\n",
      "City not found. Skipping...\n",
      "Processing Record 25 of Set 10 | qeshm\n",
      "Processing Record 26 of Set 10 | koshki\n",
      "Processing Record 27 of Set 10 | mitzic\n",
      "Processing Record 28 of Set 10 | dandong\n",
      "Processing Record 29 of Set 10 | verkhnyaya inta\n",
      "City not found. Skipping...\n",
      "Processing Record 30 of Set 10 | torbay\n",
      "Processing Record 31 of Set 10 | san miguel\n",
      "City not found. Skipping...\n",
      "Processing Record 32 of Set 10 | carballo\n",
      "Processing Record 33 of Set 10 | portland\n",
      "Processing Record 34 of Set 10 | tucumcari\n",
      "Processing Record 35 of Set 10 | bikaner\n",
      "Processing Record 36 of Set 10 | pingdu\n",
      "Processing Record 37 of Set 10 | tamiami\n",
      "Processing Record 38 of Set 10 | prudy\n",
      "City not found. Skipping...\n",
      "Processing Record 39 of Set 10 | turukhansk\n",
      "Processing Record 40 of Set 10 | kudahuvadhoo\n",
      "Processing Record 41 of Set 10 | broome\n",
      "Processing Record 42 of Set 10 | derzhavinsk\n",
      "Processing Record 43 of Set 10 | bushehr\n",
      "Processing Record 44 of Set 10 | pahrump\n",
      "Processing Record 45 of Set 10 | santander\n",
      "Processing Record 46 of Set 10 | susaki\n",
      "Processing Record 47 of Set 10 | kingaroy\n",
      "Processing Record 48 of Set 10 | high prairie\n",
      "Processing Record 49 of Set 10 | nandyal\n",
      "Processing Record 50 of Set 10 | kitsuki\n",
      "Processing Record 1 of Set 11 | honiara\n",
      "Processing Record 2 of Set 11 | kovdor\n",
      "Processing Record 3 of Set 11 | karatau\n",
      "Processing Record 4 of Set 11 | ormara\n",
      "Processing Record 5 of Set 11 | sri aman\n",
      "Processing Record 6 of Set 11 | shakawe\n",
      "Processing Record 7 of Set 11 | orel-izumrud\n",
      "Processing Record 8 of Set 11 | waipawa\n",
      "Processing Record 9 of Set 11 | general roca\n",
      "City not found. Skipping...\n",
      "Processing Record 10 of Set 11 | san luis\n",
      "City not found. Skipping...\n",
      "Processing Record 11 of Set 11 | kagal\n",
      "Processing Record 12 of Set 11 | moctezuma\n",
      "Processing Record 13 of Set 11 | tammisaari\n",
      "Processing Record 14 of Set 11 | krasnoselkup\n",
      "Processing Record 15 of Set 11 | maues\n",
      "Processing Record 16 of Set 11 | shawnee\n",
      "Processing Record 17 of Set 11 | lazaro cardenas\n",
      "Processing Record 18 of Set 11 | sorland\n",
      "Processing Record 19 of Set 11 | panjab\n",
      "Processing Record 20 of Set 11 | san jeronimo\n",
      "Processing Record 21 of Set 11 | kenora\n",
      "Processing Record 22 of Set 11 | olafsvik\n",
      "Processing Record 23 of Set 11 | libreville\n",
      "Processing Record 24 of Set 11 | melville\n",
      "Processing Record 25 of Set 11 | show low\n",
      "Processing Record 26 of Set 11 | conceicao do araguaia\n",
      "Processing Record 27 of Set 11 | berzence\n",
      "Processing Record 28 of Set 11 | gat\n",
      "Processing Record 29 of Set 11 | andradas\n",
      "Processing Record 30 of Set 11 | klaksvik\n",
      "Processing Record 31 of Set 11 | hillsboro\n",
      "Processing Record 32 of Set 11 | bonthe\n",
      "Processing Record 33 of Set 11 | flin flon\n",
      "Processing Record 34 of Set 11 | eyl\n",
      "Processing Record 35 of Set 11 | corner brook\n",
      "Processing Record 36 of Set 11 | vinh\n",
      "Processing Record 37 of Set 11 | askino\n",
      "Processing Record 38 of Set 11 | biak\n",
      "Processing Record 39 of Set 11 | copacabana\n",
      "City not found. Skipping...\n",
      "Processing Record 40 of Set 11 | west wendover\n",
      "Processing Record 41 of Set 11 | sosva\n",
      "Processing Record 42 of Set 11 | palmer\n",
      "Processing Record 43 of Set 11 | warrnambool\n",
      "Processing Record 44 of Set 11 | fort nelson\n",
      "Processing Record 45 of Set 11 | sibolga\n",
      "Processing Record 46 of Set 11 | dubinino\n",
      "Processing Record 47 of Set 11 | gold coast\n",
      "Processing Record 48 of Set 11 | tashkent\n",
      "Processing Record 49 of Set 11 | antofagasta\n",
      "City not found. Skipping...\n",
      "Processing Record 50 of Set 11 | man\n",
      "Processing Record 1 of Set 12 | pakxe\n",
      "Processing Record 2 of Set 12 | cacimbinhas\n",
      "Processing Record 3 of Set 12 | marystown\n",
      "Processing Record 4 of Set 12 | vostok\n",
      "Processing Record 5 of Set 12 | tromso\n",
      "Processing Record 6 of Set 12 | kidal\n",
      "Processing Record 7 of Set 12 | ust-maya\n",
      "Processing Record 8 of Set 12 | calvinia\n",
      "Processing Record 9 of Set 12 | lagunas\n",
      "Processing Record 10 of Set 12 | pedro juan caballero\n",
      "Processing Record 11 of Set 12 | acarau\n",
      "Processing Record 12 of Set 12 | vangaindrano\n",
      "-----------------------------\n",
      "Data Retrieval Complete\n",
      "-----------------------------\n"
     ]
    }
   ],
   "source": [
    "# Set up url\n",
    "base_url=\"http://api.openweathermap.org/data/2.5/weather?\"\n",
    "Fahrenheit=\"&units=imperial\"\n",
    "\n",
    "# Define lists\n",
    "max_temp=[]\n",
    "latitude=[]\n",
    "longitude=[]\n",
    "humidity=[]\n",
    "cloudiness=[]\n",
    "windspeed=[]\n",
    "country=[]\n",
    "cities_found=[]\n",
    "dates=[]\n",
    "numbercount=0\n",
    "setcount=1\n",
    "\n",
    "# Start print title\n",
    "print(\"Beginning Data Retrieval\")\n",
    "print(\"-----------------------------\")\n",
    "\n",
    "# Start a loop to go over all cities in the \"cities\" list.\n",
    "for city in cities:\n",
    "    url=base_url+\"&q=\"+city+\"&appid=\"+weather_api_key+Fahrenheit\n",
    "    response=requests.get(url)\n",
    "    if (not response):\n",
    "        print(\"City not found. Skipping...\")\n",
    "    else:\n",
    "        weather=response.json()\n",
    "        cities_found.append(city)\n",
    "        max_temp.append(weather[\"main\"][\"temp_max\"])\n",
    "        latitude.append(weather[\"coord\"][\"lat\"])\n",
    "        longitude.append(weather[\"coord\"][\"lon\"])\n",
    "        humidity.append(weather[\"main\"][\"humidity\"])\n",
    "        cloudiness.append(weather[\"clouds\"][\"all\"])\n",
    "        windspeed.append(weather[\"wind\"][\"speed\"])\n",
    "        country.append(weather[\"sys\"][\"country\"])\n",
    "        dates.append(weather[\"dt\"])\n",
    "        if numbercount==50:\n",
    "            numbercount=0\n",
    "            setcount+=1\n",
    "        numbercount+=1\n",
    "        print(f\"Processing Record {numbercount} of Set {setcount} | {city}\")\n",
    "    time.sleep(1)\n",
    "\n",
    "# Print the endings\n",
    "print(\"-----------------------------\")\n",
    "print(\"Data Retrieval Complete\")\n",
    "print(\"-----------------------------\")"
   ]
  },
  {
   "cell_type": "markdown",
   "metadata": {},
   "source": [
    "Convert Raw Data to DataFrame\n",
    "* Export the city data into a .csv.\n",
    "* Display the DataFrame"
   ]
  },
  {
   "cell_type": "code",
   "execution_count": 5,
   "metadata": {},
   "outputs": [
    {
     "name": "stdout",
     "output_type": "stream",
     "text": [
      "City          562\n",
      "Lat           562\n",
      "Lng           562\n",
      "Max Temp      562\n",
      "Humidity      562\n",
      "Cloudiness    562\n",
      "Wind Speed    562\n",
      "Country       562\n",
      "Date          562\n"
     ]
    }
   ],
   "source": [
    "print(f\"City          {len(cities_found)}\")\n",
    "print(f\"Lat           {len(latitude)}\")\n",
    "print(f\"Lng           {len(longitude)}\")\n",
    "print(f\"Max Temp      {len(max_temp)}\")\n",
    "print(f\"Humidity      {len(humidity)}\")\n",
    "print(f\"Cloudiness    {len(cloudiness)}\")\n",
    "print(f\"Wind Speed    {len(windspeed)}\")\n",
    "print(f\"Country       {len(country)}\")\n",
    "print(f\"Date          {len(dates)}\")"
   ]
  },
  {
   "cell_type": "code",
   "execution_count": 23,
   "metadata": {},
   "outputs": [
    {
     "data": {
      "text/html": [
       "<div>\n",
       "<style scoped>\n",
       "    .dataframe tbody tr th:only-of-type {\n",
       "        vertical-align: middle;\n",
       "    }\n",
       "\n",
       "    .dataframe tbody tr th {\n",
       "        vertical-align: top;\n",
       "    }\n",
       "\n",
       "    .dataframe thead th {\n",
       "        text-align: right;\n",
       "    }\n",
       "</style>\n",
       "<table border=\"1\" class=\"dataframe\">\n",
       "  <thead>\n",
       "    <tr style=\"text-align: right;\">\n",
       "      <th></th>\n",
       "      <th>City</th>\n",
       "      <th>Lat</th>\n",
       "      <th>Lng</th>\n",
       "      <th>Max Temp</th>\n",
       "      <th>Humidity</th>\n",
       "      <th>Cloudiness</th>\n",
       "      <th>Wind Speed</th>\n",
       "      <th>Country</th>\n",
       "      <th>Date</th>\n",
       "    </tr>\n",
       "  </thead>\n",
       "  <tbody>\n",
       "    <tr>\n",
       "      <th>0</th>\n",
       "      <td>ushuaia</td>\n",
       "      <td>-54.80</td>\n",
       "      <td>-68.30</td>\n",
       "      <td>33.80</td>\n",
       "      <td>86</td>\n",
       "      <td>40</td>\n",
       "      <td>1.45</td>\n",
       "      <td>AR</td>\n",
       "      <td>1592843768</td>\n",
       "    </tr>\n",
       "    <tr>\n",
       "      <th>1</th>\n",
       "      <td>port-gentil</td>\n",
       "      <td>-0.72</td>\n",
       "      <td>8.78</td>\n",
       "      <td>78.80</td>\n",
       "      <td>78</td>\n",
       "      <td>90</td>\n",
       "      <td>9.17</td>\n",
       "      <td>GA</td>\n",
       "      <td>1592843718</td>\n",
       "    </tr>\n",
       "    <tr>\n",
       "      <th>2</th>\n",
       "      <td>rikitea</td>\n",
       "      <td>-23.12</td>\n",
       "      <td>-134.97</td>\n",
       "      <td>69.60</td>\n",
       "      <td>61</td>\n",
       "      <td>89</td>\n",
       "      <td>15.97</td>\n",
       "      <td>PF</td>\n",
       "      <td>1592843932</td>\n",
       "    </tr>\n",
       "    <tr>\n",
       "      <th>3</th>\n",
       "      <td>yellowknife</td>\n",
       "      <td>62.46</td>\n",
       "      <td>-114.35</td>\n",
       "      <td>71.01</td>\n",
       "      <td>63</td>\n",
       "      <td>75</td>\n",
       "      <td>5.82</td>\n",
       "      <td>CA</td>\n",
       "      <td>1592843933</td>\n",
       "    </tr>\n",
       "    <tr>\n",
       "      <th>4</th>\n",
       "      <td>vardenis</td>\n",
       "      <td>40.18</td>\n",
       "      <td>45.73</td>\n",
       "      <td>53.13</td>\n",
       "      <td>71</td>\n",
       "      <td>25</td>\n",
       "      <td>4.27</td>\n",
       "      <td>AM</td>\n",
       "      <td>1592843934</td>\n",
       "    </tr>\n",
       "  </tbody>\n",
       "</table>\n",
       "</div>"
      ],
      "text/plain": [
       "          City    Lat     Lng  Max Temp  Humidity  Cloudiness  Wind Speed  \\\n",
       "0      ushuaia -54.80  -68.30     33.80        86          40        1.45   \n",
       "1  port-gentil  -0.72    8.78     78.80        78          90        9.17   \n",
       "2      rikitea -23.12 -134.97     69.60        61          89       15.97   \n",
       "3  yellowknife  62.46 -114.35     71.01        63          75        5.82   \n",
       "4     vardenis  40.18   45.73     53.13        71          25        4.27   \n",
       "\n",
       "  Country        Date  \n",
       "0      AR  1592843768  \n",
       "1      GA  1592843718  \n",
       "2      PF  1592843932  \n",
       "3      CA  1592843933  \n",
       "4      AM  1592843934  "
      ]
     },
     "execution_count": 23,
     "metadata": {},
     "output_type": "execute_result"
    }
   ],
   "source": [
    "df=pd.DataFrame({\"City\":cities_found,\"Lat\":latitude,\"Lng\":longitude,\"Max Temp\":max_temp,\"Humidity\":humidity,\"Cloudiness\":cloudiness,\n",
    "                \"Wind Speed\":windspeed,\"Country\":country,\"Date\":dates})\n",
    "df.to_csv(\"Data Output/City Data.csv\",index=False)\n",
    "df.head()"
   ]
  },
  {
   "cell_type": "markdown",
   "metadata": {},
   "source": [
    "## Inspect the data and remove the cities where the humidity > 100%.\n",
    "----\n",
    "Skip this step if there are no cities that have humidity > 100%. "
   ]
  },
  {
   "cell_type": "code",
   "execution_count": 7,
   "metadata": {},
   "outputs": [
    {
     "data": {
      "text/html": [
       "<div>\n",
       "<style scoped>\n",
       "    .dataframe tbody tr th:only-of-type {\n",
       "        vertical-align: middle;\n",
       "    }\n",
       "\n",
       "    .dataframe tbody tr th {\n",
       "        vertical-align: top;\n",
       "    }\n",
       "\n",
       "    .dataframe thead th {\n",
       "        text-align: right;\n",
       "    }\n",
       "</style>\n",
       "<table border=\"1\" class=\"dataframe\">\n",
       "  <thead>\n",
       "    <tr style=\"text-align: right;\">\n",
       "      <th></th>\n",
       "      <th>Lat</th>\n",
       "      <th>Lng</th>\n",
       "      <th>Max Temp</th>\n",
       "      <th>Humidity</th>\n",
       "      <th>Cloudiness</th>\n",
       "      <th>Wind Speed</th>\n",
       "      <th>Date</th>\n",
       "    </tr>\n",
       "  </thead>\n",
       "  <tbody>\n",
       "    <tr>\n",
       "      <th>count</th>\n",
       "      <td>562.000000</td>\n",
       "      <td>562.000000</td>\n",
       "      <td>562.000000</td>\n",
       "      <td>562.000000</td>\n",
       "      <td>562.000000</td>\n",
       "      <td>562.000000</td>\n",
       "      <td>5.620000e+02</td>\n",
       "    </tr>\n",
       "    <tr>\n",
       "      <th>mean</th>\n",
       "      <td>20.226993</td>\n",
       "      <td>15.967384</td>\n",
       "      <td>71.134484</td>\n",
       "      <td>67.161922</td>\n",
       "      <td>47.163701</td>\n",
       "      <td>8.089057</td>\n",
       "      <td>1.592844e+09</td>\n",
       "    </tr>\n",
       "    <tr>\n",
       "      <th>std</th>\n",
       "      <td>32.769335</td>\n",
       "      <td>89.334178</td>\n",
       "      <td>14.873480</td>\n",
       "      <td>21.322256</td>\n",
       "      <td>36.817973</td>\n",
       "      <td>5.387071</td>\n",
       "      <td>1.997340e+02</td>\n",
       "    </tr>\n",
       "    <tr>\n",
       "      <th>min</th>\n",
       "      <td>-54.800000</td>\n",
       "      <td>-179.170000</td>\n",
       "      <td>32.700000</td>\n",
       "      <td>3.000000</td>\n",
       "      <td>0.000000</td>\n",
       "      <td>0.090000</td>\n",
       "      <td>1.592844e+09</td>\n",
       "    </tr>\n",
       "    <tr>\n",
       "      <th>25%</th>\n",
       "      <td>-6.382500</td>\n",
       "      <td>-62.405000</td>\n",
       "      <td>60.040000</td>\n",
       "      <td>56.000000</td>\n",
       "      <td>9.250000</td>\n",
       "      <td>4.000000</td>\n",
       "      <td>1.592844e+09</td>\n",
       "    </tr>\n",
       "    <tr>\n",
       "      <th>50%</th>\n",
       "      <td>24.850000</td>\n",
       "      <td>18.435000</td>\n",
       "      <td>73.075000</td>\n",
       "      <td>71.000000</td>\n",
       "      <td>40.000000</td>\n",
       "      <td>6.930000</td>\n",
       "      <td>1.592844e+09</td>\n",
       "    </tr>\n",
       "    <tr>\n",
       "      <th>75%</th>\n",
       "      <td>47.580000</td>\n",
       "      <td>89.937500</td>\n",
       "      <td>82.000000</td>\n",
       "      <td>83.000000</td>\n",
       "      <td>86.000000</td>\n",
       "      <td>10.627500</td>\n",
       "      <td>1.592844e+09</td>\n",
       "    </tr>\n",
       "    <tr>\n",
       "      <th>max</th>\n",
       "      <td>78.220000</td>\n",
       "      <td>179.320000</td>\n",
       "      <td>115.570000</td>\n",
       "      <td>100.000000</td>\n",
       "      <td>100.000000</td>\n",
       "      <td>31.090000</td>\n",
       "      <td>1.592845e+09</td>\n",
       "    </tr>\n",
       "  </tbody>\n",
       "</table>\n",
       "</div>"
      ],
      "text/plain": [
       "              Lat         Lng    Max Temp    Humidity  Cloudiness  Wind Speed  \\\n",
       "count  562.000000  562.000000  562.000000  562.000000  562.000000  562.000000   \n",
       "mean    20.226993   15.967384   71.134484   67.161922   47.163701    8.089057   \n",
       "std     32.769335   89.334178   14.873480   21.322256   36.817973    5.387071   \n",
       "min    -54.800000 -179.170000   32.700000    3.000000    0.000000    0.090000   \n",
       "25%     -6.382500  -62.405000   60.040000   56.000000    9.250000    4.000000   \n",
       "50%     24.850000   18.435000   73.075000   71.000000   40.000000    6.930000   \n",
       "75%     47.580000   89.937500   82.000000   83.000000   86.000000   10.627500   \n",
       "max     78.220000  179.320000  115.570000  100.000000  100.000000   31.090000   \n",
       "\n",
       "               Date  \n",
       "count  5.620000e+02  \n",
       "mean   1.592844e+09  \n",
       "std    1.997340e+02  \n",
       "min    1.592844e+09  \n",
       "25%    1.592844e+09  \n",
       "50%    1.592844e+09  \n",
       "75%    1.592844e+09  \n",
       "max    1.592845e+09  "
      ]
     },
     "execution_count": 7,
     "metadata": {},
     "output_type": "execute_result"
    }
   ],
   "source": [
    "selected_df=df.loc[df[\"Humidity\"]<=100,:]\n",
    "selected_df.describe()"
   ]
  },
  {
   "cell_type": "code",
   "execution_count": 8,
   "metadata": {},
   "outputs": [
    {
     "data": {
      "text/plain": [
       "Series([], Name: City, dtype: object)"
      ]
     },
     "execution_count": 8,
     "metadata": {},
     "output_type": "execute_result"
    }
   ],
   "source": [
    "#  Get the indices of cities that have humidity over 100%.\n",
    "selected2_df=df.loc[df[\"Humidity\"]>100,:]\n",
    "selected2_df[\"City\"]"
   ]
  },
  {
   "cell_type": "code",
   "execution_count": 9,
   "metadata": {},
   "outputs": [
    {
     "data": {
      "text/html": [
       "<div>\n",
       "<style scoped>\n",
       "    .dataframe tbody tr th:only-of-type {\n",
       "        vertical-align: middle;\n",
       "    }\n",
       "\n",
       "    .dataframe tbody tr th {\n",
       "        vertical-align: top;\n",
       "    }\n",
       "\n",
       "    .dataframe thead th {\n",
       "        text-align: right;\n",
       "    }\n",
       "</style>\n",
       "<table border=\"1\" class=\"dataframe\">\n",
       "  <thead>\n",
       "    <tr style=\"text-align: right;\">\n",
       "      <th></th>\n",
       "      <th>City</th>\n",
       "      <th>Lat</th>\n",
       "      <th>Lng</th>\n",
       "      <th>Max Temp</th>\n",
       "      <th>Humidity</th>\n",
       "      <th>Cloudiness</th>\n",
       "      <th>Wind Speed</th>\n",
       "      <th>Country</th>\n",
       "      <th>Date</th>\n",
       "    </tr>\n",
       "  </thead>\n",
       "  <tbody>\n",
       "    <tr>\n",
       "      <th>30</th>\n",
       "      <td>agadez</td>\n",
       "      <td>19.75</td>\n",
       "      <td>10.25</td>\n",
       "      <td>102.13</td>\n",
       "      <td>7</td>\n",
       "      <td>0</td>\n",
       "      <td>3.04</td>\n",
       "      <td>NE</td>\n",
       "      <td>1592843966</td>\n",
       "    </tr>\n",
       "    <tr>\n",
       "      <th>88</th>\n",
       "      <td>kolokani</td>\n",
       "      <td>13.57</td>\n",
       "      <td>-8.03</td>\n",
       "      <td>105.26</td>\n",
       "      <td>13</td>\n",
       "      <td>40</td>\n",
       "      <td>9.04</td>\n",
       "      <td>ML</td>\n",
       "      <td>1592843897</td>\n",
       "    </tr>\n",
       "    <tr>\n",
       "      <th>118</th>\n",
       "      <td>aksu</td>\n",
       "      <td>41.12</td>\n",
       "      <td>80.26</td>\n",
       "      <td>82.62</td>\n",
       "      <td>14</td>\n",
       "      <td>24</td>\n",
       "      <td>8.50</td>\n",
       "      <td>CN</td>\n",
       "      <td>1592844076</td>\n",
       "    </tr>\n",
       "    <tr>\n",
       "      <th>169</th>\n",
       "      <td>adrar</td>\n",
       "      <td>20.50</td>\n",
       "      <td>-10.07</td>\n",
       "      <td>111.81</td>\n",
       "      <td>6</td>\n",
       "      <td>0</td>\n",
       "      <td>18.92</td>\n",
       "      <td>MR</td>\n",
       "      <td>1592844138</td>\n",
       "    </tr>\n",
       "    <tr>\n",
       "      <th>211</th>\n",
       "      <td>taoudenni</td>\n",
       "      <td>22.68</td>\n",
       "      <td>-3.98</td>\n",
       "      <td>115.57</td>\n",
       "      <td>5</td>\n",
       "      <td>14</td>\n",
       "      <td>16.89</td>\n",
       "      <td>ML</td>\n",
       "      <td>1592844189</td>\n",
       "    </tr>\n",
       "    <tr>\n",
       "      <th>225</th>\n",
       "      <td>tessalit</td>\n",
       "      <td>20.20</td>\n",
       "      <td>1.01</td>\n",
       "      <td>108.30</td>\n",
       "      <td>6</td>\n",
       "      <td>1</td>\n",
       "      <td>6.96</td>\n",
       "      <td>ML</td>\n",
       "      <td>1592844204</td>\n",
       "    </tr>\n",
       "    <tr>\n",
       "      <th>242</th>\n",
       "      <td>aswan</td>\n",
       "      <td>24.09</td>\n",
       "      <td>32.91</td>\n",
       "      <td>102.24</td>\n",
       "      <td>8</td>\n",
       "      <td>0</td>\n",
       "      <td>15.14</td>\n",
       "      <td>EG</td>\n",
       "      <td>1592844226</td>\n",
       "    </tr>\n",
       "    <tr>\n",
       "      <th>287</th>\n",
       "      <td>kaeo</td>\n",
       "      <td>-35.10</td>\n",
       "      <td>173.78</td>\n",
       "      <td>60.01</td>\n",
       "      <td>3</td>\n",
       "      <td>50</td>\n",
       "      <td>8.99</td>\n",
       "      <td>NZ</td>\n",
       "      <td>1592844278</td>\n",
       "    </tr>\n",
       "    <tr>\n",
       "      <th>309</th>\n",
       "      <td>saint george</td>\n",
       "      <td>37.10</td>\n",
       "      <td>-113.58</td>\n",
       "      <td>91.99</td>\n",
       "      <td>14</td>\n",
       "      <td>1</td>\n",
       "      <td>5.82</td>\n",
       "      <td>US</td>\n",
       "      <td>1592844303</td>\n",
       "    </tr>\n",
       "    <tr>\n",
       "      <th>325</th>\n",
       "      <td>kashi</td>\n",
       "      <td>39.45</td>\n",
       "      <td>75.98</td>\n",
       "      <td>82.40</td>\n",
       "      <td>15</td>\n",
       "      <td>17</td>\n",
       "      <td>6.71</td>\n",
       "      <td>CN</td>\n",
       "      <td>1592844321</td>\n",
       "    </tr>\n",
       "    <tr>\n",
       "      <th>335</th>\n",
       "      <td>shahr-e babak</td>\n",
       "      <td>30.12</td>\n",
       "      <td>55.12</td>\n",
       "      <td>81.46</td>\n",
       "      <td>14</td>\n",
       "      <td>0</td>\n",
       "      <td>5.64</td>\n",
       "      <td>IR</td>\n",
       "      <td>1592844333</td>\n",
       "    </tr>\n",
       "    <tr>\n",
       "      <th>392</th>\n",
       "      <td>pozoblanco</td>\n",
       "      <td>38.38</td>\n",
       "      <td>-4.85</td>\n",
       "      <td>104.00</td>\n",
       "      <td>13</td>\n",
       "      <td>0</td>\n",
       "      <td>11.41</td>\n",
       "      <td>ES</td>\n",
       "      <td>1592844399</td>\n",
       "    </tr>\n",
       "    <tr>\n",
       "      <th>440</th>\n",
       "      <td>atar</td>\n",
       "      <td>20.52</td>\n",
       "      <td>-13.05</td>\n",
       "      <td>110.89</td>\n",
       "      <td>7</td>\n",
       "      <td>0</td>\n",
       "      <td>24.99</td>\n",
       "      <td>MR</td>\n",
       "      <td>1592844459</td>\n",
       "    </tr>\n",
       "    <tr>\n",
       "      <th>511</th>\n",
       "      <td>moctezuma</td>\n",
       "      <td>29.80</td>\n",
       "      <td>-109.67</td>\n",
       "      <td>91.92</td>\n",
       "      <td>10</td>\n",
       "      <td>0</td>\n",
       "      <td>7.18</td>\n",
       "      <td>MX</td>\n",
       "      <td>1592844545</td>\n",
       "    </tr>\n",
       "    <tr>\n",
       "      <th>524</th>\n",
       "      <td>show low</td>\n",
       "      <td>34.25</td>\n",
       "      <td>-110.03</td>\n",
       "      <td>82.00</td>\n",
       "      <td>12</td>\n",
       "      <td>1</td>\n",
       "      <td>4.70</td>\n",
       "      <td>US</td>\n",
       "      <td>1592844560</td>\n",
       "    </tr>\n",
       "    <tr>\n",
       "      <th>555</th>\n",
       "      <td>kidal</td>\n",
       "      <td>18.44</td>\n",
       "      <td>1.41</td>\n",
       "      <td>107.35</td>\n",
       "      <td>7</td>\n",
       "      <td>57</td>\n",
       "      <td>4.92</td>\n",
       "      <td>ML</td>\n",
       "      <td>1592844596</td>\n",
       "    </tr>\n",
       "  </tbody>\n",
       "</table>\n",
       "</div>"
      ],
      "text/plain": [
       "              City    Lat     Lng  Max Temp  Humidity  Cloudiness  Wind Speed  \\\n",
       "30          agadez  19.75   10.25    102.13         7           0        3.04   \n",
       "88        kolokani  13.57   -8.03    105.26        13          40        9.04   \n",
       "118           aksu  41.12   80.26     82.62        14          24        8.50   \n",
       "169          adrar  20.50  -10.07    111.81         6           0       18.92   \n",
       "211      taoudenni  22.68   -3.98    115.57         5          14       16.89   \n",
       "225       tessalit  20.20    1.01    108.30         6           1        6.96   \n",
       "242          aswan  24.09   32.91    102.24         8           0       15.14   \n",
       "287           kaeo -35.10  173.78     60.01         3          50        8.99   \n",
       "309   saint george  37.10 -113.58     91.99        14           1        5.82   \n",
       "325          kashi  39.45   75.98     82.40        15          17        6.71   \n",
       "335  shahr-e babak  30.12   55.12     81.46        14           0        5.64   \n",
       "392     pozoblanco  38.38   -4.85    104.00        13           0       11.41   \n",
       "440           atar  20.52  -13.05    110.89         7           0       24.99   \n",
       "511      moctezuma  29.80 -109.67     91.92        10           0        7.18   \n",
       "524       show low  34.25 -110.03     82.00        12           1        4.70   \n",
       "555          kidal  18.44    1.41    107.35         7          57        4.92   \n",
       "\n",
       "    Country        Date  \n",
       "30       NE  1592843966  \n",
       "88       ML  1592843897  \n",
       "118      CN  1592844076  \n",
       "169      MR  1592844138  \n",
       "211      ML  1592844189  \n",
       "225      ML  1592844204  \n",
       "242      EG  1592844226  \n",
       "287      NZ  1592844278  \n",
       "309      US  1592844303  \n",
       "325      CN  1592844321  \n",
       "335      IR  1592844333  \n",
       "392      ES  1592844399  \n",
       "440      MR  1592844459  \n",
       "511      MX  1592844545  \n",
       "524      US  1592844560  \n",
       "555      ML  1592844596  "
      ]
     },
     "execution_count": 9,
     "metadata": {},
     "output_type": "execute_result"
    }
   ],
   "source": [
    "# Make a new DataFrame equal to the city data to drop all humidity outliers by index.\n",
    "# Passing \"inplace=False\" will make a copy of the city_data DataFrame, which we call \"clean_city_data\".\n",
    "humidity_quartiles=df[\"Humidity\"].quantile([0.25,0.5,0.75])\n",
    "humidity_iqr=humidity_quartiles[0.75]-humidity_quartiles[0.25]\n",
    "humidity_LB=humidity_quartiles[0.25]-1.5*humidity_iqr\n",
    "humidity_UB=humidity_quartiles[0.75]+1.5*humidity_iqr\n",
    "outlier_data=df.loc[(df[\"Humidity\"]<humidity_LB)|(df[\"Humidity\"]>humidity_UB),:]\n",
    "clean_city_data=df.loc[(df[\"Humidity\"]>humidity_LB)&(df[\"Humidity\"]<humidity_UB),:]\n",
    "outlier_data"
   ]
  },
  {
   "cell_type": "code",
   "execution_count": 24,
   "metadata": {},
   "outputs": [],
   "source": [
    "# Extract relevant fields from the data frame\n",
    "outlier_data.to_csv(\"Data Output/Humidity Outliers Data.csv\",index=False)\n",
    "\n",
    "# Export the City_Data into a csv\n",
    "clean_city_data.to_csv(\"Data Output/Clean City Data.csv\",index=False)"
   ]
  },
  {
   "cell_type": "markdown",
   "metadata": {},
   "source": [
    "## Plotting the Data\n",
    "* Use proper labeling of the plots using plot titles (including date of analysis) and axes labels.\n",
    "* Save the plotted figures as .pngs."
   ]
  },
  {
   "cell_type": "markdown",
   "metadata": {},
   "source": [
    "## Latitude vs. Temperature Plot"
   ]
  },
  {
   "cell_type": "code",
   "execution_count": 25,
   "metadata": {
    "scrolled": true
   },
   "outputs": [
    {
     "data": {
      "image/png": "[encoded data removed]",
      "text/plain": [
       "<Figure size 432x288 with 1 Axes>"
      ]
     },
     "metadata": {
      "needs_background": "light"
     },
     "output_type": "display_data"
    }
   ],
   "source": [
    "x=latitude\n",
    "y=max_temp\n",
    "plt.scatter(x,y,marker=\"o\",facecolors=\"blue\",edgecolors=\"black\")\n",
    "plt.title(\"City Latitude vs. Max Temperature (06/18/20)\")\n",
    "plt.xlabel(\"Latitude\")\n",
    "plt.ylabel(\"Max Temperature (F)\")\n",
    "plt.xlim(min(latitude)-5,max(latitude)+5)\n",
    "plt.ylim(min(max_temp)-5,max(max_temp)+5)\n",
    "plt.grid()\n",
    "plt.savefig(\"Image Output/City Latitude vs Max Temperature.png\")\n",
    "plt.show()"
   ]
  },
  {
   "cell_type": "code",
   "execution_count": 14,
   "metadata": {},
   "outputs": [],
   "source": [
    "# Observation: The max temperatures of cities reach the highest value when latitude equals 20."
   ]
  },
  {
   "cell_type": "markdown",
   "metadata": {},
   "source": [
    "## Latitude vs. Humidity Plot"
   ]
  },
  {
   "cell_type": "code",
   "execution_count": 26,
   "metadata": {},
   "outputs": [
    {
     "data": {
      "image/png": "[encoded data removed]",
      "text/plain": [
       "<Figure size 432x288 with 1 Axes>"
      ]
     },
     "metadata": {
      "needs_background": "light"
     },
     "output_type": "display_data"
    }
   ],
   "source": [
    "x=latitude\n",
    "y=humidity\n",
    "plt.scatter(x,y,marker=\"o\",facecolors=\"blue\",edgecolors=\"black\")\n",
    "plt.title(\"City Latitude vs. Humidity (06/18/20)\")\n",
    "plt.xlabel(\"Latitude\")\n",
    "plt.ylabel(\"Humidity (%)\")\n",
    "plt.xlim(min(latitude)-5,max(latitude)+5)\n",
    "plt.ylim(min(humidity)-5,max(humidity)+5)\n",
    "plt.grid()\n",
    "plt.savefig(\"Image Output/City Latitude vs Humidity.png\")\n",
    "plt.show()"
   ]
  },
  {
   "cell_type": "code",
   "execution_count": null,
   "metadata": {},
   "outputs": [],
   "source": [
    "# Observation: The humidity of city has no obvious correlation with latitude."
   ]
  },
  {
   "cell_type": "markdown",
   "metadata": {},
   "source": [
    "## Latitude vs. Cloudiness Plot"
   ]
  },
  {
   "cell_type": "code",
   "execution_count": 27,
   "metadata": {},
   "outputs": [
    {
     "data": {
      "image/png": "[encoded data removed]",
      "text/plain": [
       "<Figure size 432x288 with 1 Axes>"
      ]
     },
     "metadata": {
      "needs_background": "light"
     },
     "output_type": "display_data"
    }
   ],
   "source": [
    "x=latitude\n",
    "y=cloudiness\n",
    "plt.scatter(x,y,marker=\"o\",facecolors=\"blue\",edgecolors=\"black\")\n",
    "plt.title(\"City Latitude vs. Cloudiness (06/18/20)\")\n",
    "plt.xlabel(\"Latitude\")\n",
    "plt.ylabel(\"Cloudiness (%)\")\n",
    "plt.xlim(min(latitude)-5,max(latitude)+5)\n",
    "plt.ylim(min(cloudiness)-5,max(cloudiness)+5)\n",
    "plt.grid()\n",
    "plt.savefig(\"Image Output/City Latitude vs Cloudiness.png\")\n",
    "plt.show()"
   ]
  },
  {
   "cell_type": "code",
   "execution_count": null,
   "metadata": {},
   "outputs": [],
   "source": [
    "# Observation: The cloudiness of city has no obvious correlation with latitude."
   ]
  },
  {
   "cell_type": "markdown",
   "metadata": {},
   "source": [
    "## Latitude vs. Wind Speed Plot"
   ]
  },
  {
   "cell_type": "code",
   "execution_count": 28,
   "metadata": {},
   "outputs": [
    {
     "data": {
      "image/png": "[encoded data removed]",
      "text/plain": [
       "<Figure size 432x288 with 1 Axes>"
      ]
     },
     "metadata": {
      "needs_background": "light"
     },
     "output_type": "display_data"
    }
   ],
   "source": [
    "x=latitude\n",
    "y=windspeed\n",
    "plt.scatter(x,y,marker=\"o\",facecolors=\"blue\",edgecolors=\"black\")\n",
    "plt.title(\"City Latitude vs. Wind Speed (06/18/20)\")\n",
    "plt.xlabel(\"Latitude\")\n",
    "plt.ylabel(\"Wind Speed (mph)\")\n",
    "plt.xlim(min(latitude)-5,max(latitude)+5)\n",
    "plt.ylim(min(windspeed)-5,max(windspeed)+5)\n",
    "plt.grid()\n",
    "plt.savefig(\"Image Output/City Latitude vs Wind Speed.png\")\n",
    "plt.show()"
   ]
  },
  {
   "cell_type": "code",
   "execution_count": null,
   "metadata": {},
   "outputs": [],
   "source": [
    "# Observation: The wind speed of city has no obvious correlation with latitude, most cities are below 20 mph wind speed."
   ]
  },
  {
   "cell_type": "markdown",
   "metadata": {},
   "source": [
    "## Linear Regression"
   ]
  },
  {
   "cell_type": "code",
   "execution_count": 29,
   "metadata": {},
   "outputs": [],
   "source": [
    "# OPTIONAL: Create a function to create Linear Regression plots\n",
    "def linear_regression(x,y):\n",
    "    slope,intercept,rvalue,pvalue,stderr=linregress(x,y)\n",
    "    regress_values=slope*x+intercept\n",
    "    linear_equation=f\"y={round(slope,2)}x+{round(intercept,2)}\"\n",
    "    print(f\"The r-squared is: {rvalue**2}\")\n",
    "    print(f\"The linear equation is: {linear_equation}.\")\n",
    "    plt.scatter(x,y,marker=\"o\",facecolors=\"blue\")\n",
    "    plt.plot(x,regress_values,\"-r\")\n",
    "    plt.annotate(linear_equation,(min(x)+10,min(y)+20),fontsize=15,color=\"red\")\n",
    "    plt.xlim(min(x)-5,max(x)+5)\n",
    "    plt.ylim(min(y)-5,max(y)+5)"
   ]
  },
  {
   "cell_type": "code",
   "execution_count": 30,
   "metadata": {},
   "outputs": [
    {
     "data": {
      "text/html": [
       "<div>\n",
       "<style scoped>\n",
       "    .dataframe tbody tr th:only-of-type {\n",
       "        vertical-align: middle;\n",
       "    }\n",
       "\n",
       "    .dataframe tbody tr th {\n",
       "        vertical-align: top;\n",
       "    }\n",
       "\n",
       "    .dataframe thead th {\n",
       "        text-align: right;\n",
       "    }\n",
       "</style>\n",
       "<table border=\"1\" class=\"dataframe\">\n",
       "  <thead>\n",
       "    <tr style=\"text-align: right;\">\n",
       "      <th></th>\n",
       "      <th>City</th>\n",
       "      <th>Lat</th>\n",
       "      <th>Lng</th>\n",
       "      <th>Max Temp</th>\n",
       "      <th>Humidity</th>\n",
       "      <th>Cloudiness</th>\n",
       "      <th>Wind Speed</th>\n",
       "      <th>Country</th>\n",
       "      <th>Date</th>\n",
       "    </tr>\n",
       "  </thead>\n",
       "  <tbody>\n",
       "    <tr>\n",
       "      <th>3</th>\n",
       "      <td>yellowknife</td>\n",
       "      <td>62.46</td>\n",
       "      <td>-114.35</td>\n",
       "      <td>71.01</td>\n",
       "      <td>63</td>\n",
       "      <td>75</td>\n",
       "      <td>5.82</td>\n",
       "      <td>CA</td>\n",
       "      <td>1592843933</td>\n",
       "    </tr>\n",
       "  </tbody>\n",
       "</table>\n",
       "</div>"
      ],
      "text/plain": [
       "          City    Lat     Lng  Max Temp  Humidity  Cloudiness  Wind Speed  \\\n",
       "3  yellowknife  62.46 -114.35     71.01        63          75        5.82   \n",
       "\n",
       "  Country        Date  \n",
       "3      CA  1592843933  "
      ]
     },
     "execution_count": 30,
     "metadata": {},
     "output_type": "execute_result"
    }
   ],
   "source": [
    "# Create Northern and Southern Hemisphere DataFrames\n",
    "northern_df=df.loc[df[\"Lat\"]>=0,:]\n",
    "southern_df=df.loc[df[\"Lat\"]<0,:]\n",
    "northern_df.head(1)"
   ]
  },
  {
   "cell_type": "code",
   "execution_count": 31,
   "metadata": {},
   "outputs": [
    {
     "data": {
      "text/html": [
       "<div>\n",
       "<style scoped>\n",
       "    .dataframe tbody tr th:only-of-type {\n",
       "        vertical-align: middle;\n",
       "    }\n",
       "\n",
       "    .dataframe tbody tr th {\n",
       "        vertical-align: top;\n",
       "    }\n",
       "\n",
       "    .dataframe thead th {\n",
       "        text-align: right;\n",
       "    }\n",
       "</style>\n",
       "<table border=\"1\" class=\"dataframe\">\n",
       "  <thead>\n",
       "    <tr style=\"text-align: right;\">\n",
       "      <th></th>\n",
       "      <th>City</th>\n",
       "      <th>Lat</th>\n",
       "      <th>Lng</th>\n",
       "      <th>Max Temp</th>\n",
       "      <th>Humidity</th>\n",
       "      <th>Cloudiness</th>\n",
       "      <th>Wind Speed</th>\n",
       "      <th>Country</th>\n",
       "      <th>Date</th>\n",
       "    </tr>\n",
       "  </thead>\n",
       "  <tbody>\n",
       "    <tr>\n",
       "      <th>0</th>\n",
       "      <td>ushuaia</td>\n",
       "      <td>-54.8</td>\n",
       "      <td>-68.3</td>\n",
       "      <td>33.8</td>\n",
       "      <td>86</td>\n",
       "      <td>40</td>\n",
       "      <td>1.45</td>\n",
       "      <td>AR</td>\n",
       "      <td>1592843768</td>\n",
       "    </tr>\n",
       "  </tbody>\n",
       "</table>\n",
       "</div>"
      ],
      "text/plain": [
       "      City   Lat   Lng  Max Temp  Humidity  Cloudiness  Wind Speed Country  \\\n",
       "0  ushuaia -54.8 -68.3      33.8        86          40        1.45      AR   \n",
       "\n",
       "         Date  \n",
       "0  1592843768  "
      ]
     },
     "execution_count": 31,
     "metadata": {},
     "output_type": "execute_result"
    }
   ],
   "source": [
    "southern_df.head(1)"
   ]
  },
  {
   "cell_type": "markdown",
   "metadata": {},
   "source": [
    "####  Northern Hemisphere - Max Temp vs. Latitude Linear Regression"
   ]
  },
  {
   "cell_type": "code",
   "execution_count": 34,
   "metadata": {},
   "outputs": [
    {
     "name": "stdout",
     "output_type": "stream",
     "text": [
      "The r-squared is: 0.5055872514613976\n",
      "The linear equation is: y=-0.54x+93.3.\n"
     ]
    },
    {
     "data": {
      "image/png": "[encoded data removed]",
      "text/plain": [
       "<Figure size 432x288 with 1 Axes>"
      ]
     },
     "metadata": {
      "needs_background": "light"
     },
     "output_type": "display_data"
    }
   ],
   "source": [
    "x_axis=northern_df[\"Lat\"]\n",
    "y_axis=northern_df[\"Max Temp\"]\n",
    "linear_regression(x_axis,y_axis)\n",
    "plt.xlabel(\"Latitude\")\n",
    "plt.ylabel(\"Max Temp\")\n",
    "plt.savefig(\"Image Output/Northern Hemisphere - Max Temp vs. Latitude Linear Regression.png\")\n",
    "plt.show()"
   ]
  },
  {
   "cell_type": "code",
   "execution_count": null,
   "metadata": {},
   "outputs": [],
   "source": [
    "# Observation: For northern hemisphere, the max temperature of a city has strong negative correlation with the city latitude."
   ]
  },
  {
   "cell_type": "markdown",
   "metadata": {},
   "source": [
    "####  Southern Hemisphere - Max Temp vs. Latitude Linear Regression"
   ]
  },
  {
   "cell_type": "code",
   "execution_count": 35,
   "metadata": {},
   "outputs": [
    {
     "name": "stdout",
     "output_type": "stream",
     "text": [
      "The r-squared is: 0.6567720948319693\n",
      "The linear equation is: y=0.8x+83.99.\n"
     ]
    },
    {
     "data": {
      "image/png": "[encoded data removed]",
      "text/plain": [
       "<Figure size 432x288 with 1 Axes>"
      ]
     },
     "metadata": {
      "needs_background": "light"
     },
     "output_type": "display_data"
    }
   ],
   "source": [
    "x_axis=southern_df[\"Lat\"]\n",
    "y_axis=southern_df[\"Max Temp\"]\n",
    "linear_regression(x_axis,y_axis)\n",
    "plt.xlabel(\"Latitude\")\n",
    "plt.ylabel(\"Max Temp\")\n",
    "plt.savefig(\"Image Output/Southern Hemisphere - Max Temp vs. Latitude Linear Regression.png\")\n",
    "plt.show()"
   ]
  },
  {
   "cell_type": "code",
   "execution_count": null,
   "metadata": {},
   "outputs": [],
   "source": [
    "# Observation: For southern hemisphere, the max temperature of a city has strong positive correlation with the city latitude."
   ]
  },
  {
   "cell_type": "markdown",
   "metadata": {},
   "source": [
    "####  Northern Hemisphere - Humidity (%) vs. Latitude Linear Regression"
   ]
  },
  {
   "cell_type": "code",
   "execution_count": 36,
   "metadata": {},
   "outputs": [
    {
     "name": "stdout",
     "output_type": "stream",
     "text": [
      "The r-squared is: 1.5696045588270739e-06\n",
      "The linear equation is: y=0.0x+65.01.\n"
     ]
    },
    {
     "data": {
      "image/png": "[encoded data removed]",
      "text/plain": [
       "<Figure size 432x288 with 1 Axes>"
      ]
     },
     "metadata": {
      "needs_background": "light"
     },
     "output_type": "display_data"
    }
   ],
   "source": [
    "x_axis=northern_df[\"Lat\"]\n",
    "y_axis=northern_df[\"Humidity\"]\n",
    "linear_regression(x_axis,y_axis)\n",
    "plt.xlabel(\"Latitude\")\n",
    "plt.ylabel(\"Humidity\")\n",
    "plt.savefig(\"Image Output/Northern Hemisphere - Humidity (%) vs. Latitude Linear Regression.png\")\n",
    "plt.show()"
   ]
  },
  {
   "cell_type": "code",
   "execution_count": null,
   "metadata": {},
   "outputs": [],
   "source": [
    "# Observation: For northern hemisphere, the humidity of a city has no correlation with the city latitude."
   ]
  },
  {
   "cell_type": "markdown",
   "metadata": {},
   "source": [
    "####  Southern Hemisphere - Humidity (%) vs. Latitude Linear Regression"
   ]
  },
  {
   "cell_type": "code",
   "execution_count": 37,
   "metadata": {},
   "outputs": [
    {
     "name": "stdout",
     "output_type": "stream",
     "text": [
      "The r-squared is: 0.021935116426052646\n",
      "The linear equation is: y=-0.21x+67.68.\n"
     ]
    },
    {
     "data": {
      "image/png": "[encoded data removed]",
      "text/plain": [
       "<Figure size 432x288 with 1 Axes>"
      ]
     },
     "metadata": {
      "needs_background": "light"
     },
     "output_type": "display_data"
    }
   ],
   "source": [
    "x_axis=southern_df[\"Lat\"]\n",
    "y_axis=southern_df[\"Humidity\"]\n",
    "linear_regression(x_axis,y_axis)\n",
    "plt.xlabel(\"Latitude\")\n",
    "plt.ylabel(\"Humidity\")\n",
    "plt.savefig(\"Image Output/Southern Hemisphere - Humidity (%) vs. Latitude Linear Regression.png\")\n",
    "plt.show()"
   ]
  },
  {
   "cell_type": "code",
   "execution_count": null,
   "metadata": {},
   "outputs": [],
   "source": [
    "# Observation: For southern hemisphere, the humidity of a city has very weak negative correlation with the city latitude."
   ]
  },
  {
   "cell_type": "markdown",
   "metadata": {},
   "source": [
    "####  Northern Hemisphere - Cloudiness (%) vs. Latitude Linear Regression"
   ]
  },
  {
   "cell_type": "code",
   "execution_count": 38,
   "metadata": {},
   "outputs": [
    {
     "name": "stdout",
     "output_type": "stream",
     "text": [
      "The r-squared is: 0.0006343720285421176\n",
      "The linear equation is: y=-0.05x+50.54.\n"
     ]
    },
    {
     "data": {
      "image/png": "[encoded data removed]",
      "text/plain": [
       "<Figure size 432x288 with 1 Axes>"
      ]
     },
     "metadata": {
      "needs_background": "light"
     },
     "output_type": "display_data"
    }
   ],
   "source": [
    "x_axis=northern_df[\"Lat\"]\n",
    "y_axis=northern_df[\"Cloudiness\"]\n",
    "linear_regression(x_axis,y_axis)\n",
    "plt.xlabel(\"Latitude\")\n",
    "plt.ylabel(\"Cloudiness\")\n",
    "plt.savefig(\"Image Output/Northern Hemisphere - Cloudiness (%) vs. Latitude Linear Regression.png\")\n",
    "plt.show()"
   ]
  },
  {
   "cell_type": "code",
   "execution_count": null,
   "metadata": {},
   "outputs": [],
   "source": [
    "# Observation: For northern hemisphere, the cloudiness of a city has no correlation with the city latitude."
   ]
  },
  {
   "cell_type": "markdown",
   "metadata": {},
   "source": [
    "####  Southern Hemisphere - Cloudiness (%) vs. Latitude Linear Regression"
   ]
  },
  {
   "cell_type": "code",
   "execution_count": 39,
   "metadata": {},
   "outputs": [
    {
     "name": "stdout",
     "output_type": "stream",
     "text": [
      "The r-squared is: 0.004701179424379574\n",
      "The linear equation is: y=0.19x+47.35.\n"
     ]
    },
    {
     "data": {
      "image/png": "[encoded data removed]",
      "text/plain": [
       "<Figure size 432x288 with 1 Axes>"
      ]
     },
     "metadata": {
      "needs_background": "light"
     },
     "output_type": "display_data"
    }
   ],
   "source": [
    "x_axis=southern_df[\"Lat\"]\n",
    "y_axis=southern_df[\"Cloudiness\"]\n",
    "linear_regression(x_axis,y_axis)\n",
    "plt.xlabel(\"Latitude\")\n",
    "plt.ylabel(\"Cloudiness\")\n",
    "plt.savefig(\"Image Output/Southern Hemisphere - Cloudiness (%) vs. Latitude Linear Regression.png\")\n",
    "plt.show()"
   ]
  },
  {
   "cell_type": "code",
   "execution_count": null,
   "metadata": {},
   "outputs": [],
   "source": [
    "# Observation: For southern hemisphere, the cloudiness of a city has no correlation with the city latitude."
   ]
  },
  {
   "cell_type": "markdown",
   "metadata": {},
   "source": [
    "####  Northern Hemisphere - Wind Speed (mph) vs. Latitude Linear Regression"
   ]
  },
  {
   "cell_type": "code",
   "execution_count": 40,
   "metadata": {},
   "outputs": [
    {
     "name": "stdout",
     "output_type": "stream",
     "text": [
      "The r-squared is: 0.005303473381197269\n",
      "The linear equation is: y=0.02x+7.44.\n"
     ]
    },
    {
     "data": {
      "image/png": "[encoded data removed]",
      "text/plain": [
       "<Figure size 432x288 with 1 Axes>"
      ]
     },
     "metadata": {
      "needs_background": "light"
     },
     "output_type": "display_data"
    }
   ],
   "source": [
    "x_axis=northern_df[\"Lat\"]\n",
    "y_axis=northern_df[\"Wind Speed\"]\n",
    "linear_regression(x_axis,y_axis)\n",
    "plt.xlabel(\"Latitude\")\n",
    "plt.ylabel(\"Wind Speed\")\n",
    "plt.savefig(\"Image Output/Northern Hemisphere - Wind Speed (mph) vs. Latitude Linear Regression.png\")\n",
    "plt.show()"
   ]
  },
  {
   "cell_type": "code",
   "execution_count": null,
   "metadata": {},
   "outputs": [],
   "source": [
    "# Observation: For northern hemisphere, the wind speed of a city has no correlation with the city latitude."
   ]
  },
  {
   "cell_type": "markdown",
   "metadata": {},
   "source": [
    "####  Southern Hemisphere - Wind Speed (mph) vs. Latitude Linear Regression"
   ]
  },
  {
   "cell_type": "code",
   "execution_count": 41,
   "metadata": {},
   "outputs": [
    {
     "name": "stdout",
     "output_type": "stream",
     "text": [
      "The r-squared is: 0.0018555083518085268\n",
      "The linear equation is: y=-0.02x+7.51.\n"
     ]
    },
    {
     "data": {
      "image/png": "[encoded data removed]",
      "text/plain": [
       "<Figure size 432x288 with 1 Axes>"
      ]
     },
     "metadata": {
      "needs_background": "light"
     },
     "output_type": "display_data"
    }
   ],
   "source": [
    "x_axis=southern_df[\"Lat\"]\n",
    "y_axis=southern_df[\"Wind Speed\"]\n",
    "linear_regression(x_axis,y_axis)\n",
    "plt.xlabel(\"Latitude\")\n",
    "plt.ylabel(\"Wind Speed\")\n",
    "plt.savefig(\"Image Output/Southern Hemisphere - Wind Speed (mph) vs. Latitude Linear Regression.png\")\n",
    "plt.show()"
   ]
  },
  {
   "cell_type": "code",
   "execution_count": null,
   "metadata": {},
   "outputs": [],
   "source": [
    "# Observation: For southern hemisphere, the wind speed of a city has no correlation with the city latitude."
   ]
  }
 ],
 "metadata": {
  "anaconda-cloud": {},
  "kernel_info": {
   "name": "python3"
  },
  "kernelspec": {
   "display_name": "Python 3",
   "language": "python",
   "name": "python3"
  },
  "language_info": {
   "codemirror_mode": {
    "name": "ipython",
    "version": 3
   },
   "file_extension": ".py",
   "mimetype": "text/x-python",
   "name": "python",
   "nbconvert_exporter": "python",
   "pygments_lexer": "ipython3",
   "version": "3.7.6"
  },
  "latex_envs": {
   "LaTeX_envs_menu_present": true,
   "autoclose": false,
   "autocomplete": true,
   "bibliofile": "biblio.bib",
   "cite_by": "apalike",
   "current_citInitial": 1,
   "eqLabelWithNumbers": true,
   "eqNumInitial": 1,
   "hotkeys": {
    "equation": "Ctrl-E",
    "itemize": "Ctrl-I"
   },
   "labels_anchors": false,
   "latex_user_defs": false,
   "report_style_numbering": false,
   "user_envs_cfg": false
  },
  "nteract": {
   "version": "0.12.3"
  }
 },
 "nbformat": 4,
 "nbformat_minor": 2
}
